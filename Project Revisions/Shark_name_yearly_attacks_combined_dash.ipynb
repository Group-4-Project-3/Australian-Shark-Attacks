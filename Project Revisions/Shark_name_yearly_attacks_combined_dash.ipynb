{
 "cells": [
  {
   "cell_type": "code",
   "execution_count": null,
   "id": "58b442c8",
   "metadata": {},
   "outputs": [],
   "source": [
    "# Dependencies\n",
    "import pandas as pd\n",
    "import numpy as np\n",
    "from pathlib import Path\n",
    "from dash import Dash, html, dash_table, dcc, Input, Output, State\n",
    "import plotly.express as px\n",
    "import folium\n",
    "from folium.plugins import MarkerCluster\n",
    "import dash_leaflet as dl\n"
   ]
  },
  {
   "cell_type": "code",
   "execution_count": null,
   "id": "486ca83d",
   "metadata": {
    "scrolled": true
   },
   "outputs": [],
   "source": [
    "# set path\n",
    "original_data = \"Australian_Shark_Incident_Database_Public_Version.csv\"\n",
    "\n",
    "# read the file\n",
    "original_df = pd.read_csv(original_data, encoding = \"CP1252\")\n",
    "original_df"
   ]
  },
  {
   "cell_type": "code",
   "execution_count": null,
   "id": "9761120a",
   "metadata": {},
   "outputs": [],
   "source": [
    "# keep relevant columns\n",
    "original_df = original_df[['Incident.year',\n",
    "                           'Victim.injury',\n",
    "                           'State',\n",
    "                           'Latitude',\n",
    "                           'Longitude',\n",
    "                           'Shark.common.name',\n",
    "                           'Shark.scientific.name',\n",
    "                          'Provoked/unprovoked',\n",
    "                          'Site.category',\n",
    "                          'Incident.month']]\n",
    "original_df"
   ]
  },
  {
   "cell_type": "code",
   "execution_count": null,
   "id": "a0a00694",
   "metadata": {},
   "outputs": [],
   "source": [
    "# replace the nulls with unidentified\n",
    "clean_df = original_df.fillna('unknown')"
   ]
  },
  {
   "cell_type": "code",
   "execution_count": null,
   "id": "c4b66cf5",
   "metadata": {},
   "outputs": [],
   "source": [
    "yearly_df = clean_df.loc[:,[\"Incident.year\", \"State\"]]\n",
    "yearly_df"
   ]
  },
  {
   "cell_type": "code",
   "execution_count": null,
   "id": "a0aec1a4",
   "metadata": {},
   "outputs": [],
   "source": [
    "states = yearly_df['State'].unique()\n",
    "states"
   ]
  },
  {
   "cell_type": "code",
   "execution_count": null,
   "id": "40fda1a5",
   "metadata": {},
   "outputs": [],
   "source": [
    "yearly_count = yearly_df['Incident.year'].value_counts()\n",
    "yearly_count"
   ]
  },
  {
   "cell_type": "code",
   "execution_count": null,
   "id": "0488f9c2",
   "metadata": {},
   "outputs": [],
   "source": [
    "yearly_df = yearly_df[['Incident.year', 'State']].value_counts().reset_index(name='Count')\n",
    "yearly_df"
   ]
  },
  {
   "cell_type": "code",
   "execution_count": null,
   "id": "3dc04618",
   "metadata": {},
   "outputs": [],
   "source": [
    "yearly_df.loc[yearly_df['State'] == 'NSW'].sort_values(by=['Incident.year'])"
   ]
  },
  {
   "cell_type": "code",
   "execution_count": null,
   "id": "3a7e3db5",
   "metadata": {},
   "outputs": [],
   "source": [
    "yearly_grouped = yearly_df.groupby(['Incident.year']).sum().reset_index()\n",
    "yearly_grouped"
   ]
  },
  {
   "cell_type": "code",
   "execution_count": null,
   "id": "57c869dd",
   "metadata": {},
   "outputs": [],
   "source": [
    "# select my chosen columns focusing on shark types based on state\n",
    "reduced_df = clean_df.loc[:, [\"Shark.common.name\", \"State\"]]\n",
    "reduced_df"
   ]
  },
  {
   "cell_type": "code",
   "execution_count": null,
   "id": "5b2a5c1b",
   "metadata": {},
   "outputs": [],
   "source": [
    "# an overall total count by shark common name\n",
    "total_name = reduced_df['Shark.common.name'].value_counts()\n",
    "total_name"
   ]
  },
  {
   "cell_type": "code",
   "execution_count": null,
   "id": "bab51feb",
   "metadata": {},
   "outputs": [],
   "source": [
    "# count by shark name for each state\n",
    "totals_df = reduced_df[['State', 'Shark.common.name']].value_counts().reset_index(name='count')\n",
    "totals_df.head(20)"
   ]
  },
  {
   "cell_type": "code",
   "execution_count": null,
   "id": "b434e027",
   "metadata": {},
   "outputs": [],
   "source": [
    "totals_df.groupby(['State']).value_counts().head(20)"
   ]
  },
  {
   "cell_type": "code",
   "execution_count": null,
   "id": "e3329c99",
   "metadata": {},
   "outputs": [],
   "source": [
    "dff = totals_df\n",
    "dff"
   ]
  },
  {
   "cell_type": "code",
   "execution_count": null,
   "id": "681673cf",
   "metadata": {},
   "outputs": [],
   "source": [
    "# Get unique states and shark common names for dropdown options\n",
    "states = dff['State'].unique()\n",
    "names = dff['Shark.common.name'].unique()"
   ]
  },
  {
   "cell_type": "code",
   "execution_count": 21,
   "id": "fcde5994",
   "metadata": {},
   "outputs": [],
   "source": [
    "# Initialize the app\n",
    "app = Dash(__name__)"
   ]
  },
  {
   "cell_type": "code",
   "execution_count": 22,
   "id": "44e9fa67",
   "metadata": {
    "scrolled": false
   },
   "outputs": [
    {
     "data": {
      "text/html": [
       "\n",
       "        <iframe\n",
       "            width=\"100%\"\n",
       "            height=\"650\"\n",
       "            src=\"http://127.0.0.1:222/\"\n",
       "            frameborder=\"0\"\n",
       "            allowfullscreen\n",
       "            \n",
       "        ></iframe>\n",
       "        "
      ],
      "text/plain": [
       "<IPython.lib.display.IFrame at 0x1cd7d7e7a90>"
      ]
     },
     "metadata": {},
     "output_type": "display_data"
    }
   ],
   "source": [
    "# Define app layout\n",
    "dropdown = dcc.Dropdown(id='dropdown', options=[{'label': state, 'value': state} for state in yearly_df['State'].unique()])\n",
    "line_graph = dcc.Graph(id='line_graph')\n",
    "\n",
    "app.layout = html.Div([\n",
    "    html.H1(\"Shark Attack Data\"),\n",
    "    html.H4(\"Select State\"),\n",
    "    html.Div([\n",
    "        html.H1(\"\"),\n",
    "        # Dropdown menu for selecting states\n",
    "        dcc.Dropdown(\n",
    "            id='state-dropdown',\n",
    "            options=[{'label': state, 'value': state} for state in states],\n",
    "            value='NSW',  # Default value\n",
    "            multi=False,  # Allow single selection\n",
    "            style={'width': '50%'}\n",
    "        ),\n",
    "        # Graph component for displaying the bar chart\n",
    "        dcc.Graph(id='bar-chart')\n",
    "    ]),\n",
    "    html.Hr(),\n",
    "    html.H1(\"Yearly Shark Attacks\"),\n",
    "    html.H4(\"Select State\"),\n",
    "    dropdown,\n",
    "    line_graph\n",
    "])\n",
    "\n",
    "# Define callback to update the bar chart based on dropdown selection\n",
    "@app.callback(\n",
    "    Output('bar-chart', 'figure'),\n",
    "    [Input('state-dropdown', 'value')]\n",
    ")\n",
    "def update_bar_chart(selected_state):\n",
    "    filtered_dff = dff[dff['State'] == selected_state]\n",
    "    fig = px.bar(filtered_dff, x='Shark.common.name', y='count', color='Shark.common.name',\n",
    "                 labels={'count': 'Number of Attacks', 'Shark.common.name': 'Shark Common Name'})\n",
    "    fig.update_layout(title=f'Shark Attack Counts by Name in {selected_state}')\n",
    "    return fig\n",
    "\n",
    "# Define callback to update the line graph based on dropdown selection\n",
    "@app.callback(\n",
    "    Output('line_graph', 'figure'),\n",
    "    [Input('dropdown', 'value')]\n",
    ")\n",
    "def update_line_chart(selected_state):\n",
    "    if selected_state is None:\n",
    "        filtered_df = yearly_grouped\n",
    "        x_axis = filtered_df['Incident.year']\n",
    "    else:\n",
    "        filtered_df = yearly_df.loc[yearly_df['State'] == selected_state].sort_values(by=['Incident.year'])\n",
    "        x_axis = 'Incident.year'\n",
    "\n",
    "    new_graph = px.line(data_frame=filtered_df, x=x_axis, y='Count')\n",
    "    new_graph.update_layout(title=f'Yearly Shark Attacks in {selected_state}' if selected_state else 'Yearly Shark Attacks')\n",
    "    return new_graph\n",
    "\n",
    "# run the app\n",
    "if __name__ == \"__main__\":\n",
    "    app.run_server(debug=True, port=222)"
   ]
  },
  {
   "cell_type": "code",
   "execution_count": null,
   "id": "e07ed89f",
   "metadata": {},
   "outputs": [],
   "source": []
  }
 ],
 "metadata": {
  "kernelspec": {
   "display_name": "Python 3 (ipykernel)",
   "language": "python",
   "name": "python3"
  },
  "language_info": {
   "codemirror_mode": {
    "name": "ipython",
    "version": 3
   },
   "file_extension": ".py",
   "mimetype": "text/x-python",
   "name": "python",
   "nbconvert_exporter": "python",
   "pygments_lexer": "ipython3",
   "version": "3.11.5"
  }
 },
 "nbformat": 4,
 "nbformat_minor": 5
}
